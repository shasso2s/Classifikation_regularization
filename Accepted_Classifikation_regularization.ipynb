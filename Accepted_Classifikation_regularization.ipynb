{
 "cells": [
  {
   "cell_type": "code",
   "execution_count": 1,
   "metadata": {},
   "outputs": [],
   "source": [
    "import pandas as pd\n",
    "import numpy as np\n",
    "import matplotlib.pyplot as plt\n",
    "import scipy.optimize as opt\n"
   ]
  },
  {
   "cell_type": "code",
   "execution_count": 2,
   "metadata": {},
   "outputs": [],
   "source": [
    "#################Accepted_Classifikation_regularization###################"
   ]
  },
  {
   "cell_type": "code",
   "execution_count": 5,
   "metadata": {},
   "outputs": [
    {
     "name": "stdout",
     "output_type": "stream",
     "text": [
      "data = \n",
      "      Test 1    Test 2  Accepted\n",
      "117  0.63265 -0.030612         0\n",
      "     Test 1   Test 2  Accepted\n",
      "0  0.051267  0.69956         1\n",
      "................................................\n",
      "data.describe = \n",
      "           Test 1      Test 2    Accepted\n",
      "count  118.000000  118.000000  118.000000\n",
      "mean     0.054779    0.183102    0.491525\n"
     ]
    }
   ],
   "source": [
    "data = pd.read_csv('datasets/accepted.csv', header=None, \n",
    "                   names=['Test 1', 'Test 2', 'Accepted'])\n",
    "\n",
    "print('data = ')\n",
    "print(data.tail(1) )\n",
    "print(data.head(1) )\n",
    "print('................................................')\n",
    "print('data.describe = ')\n",
    "print(data.describe().head(2))"
   ]
  },
  {
   "cell_type": "code",
   "execution_count": 12,
   "metadata": {},
   "outputs": [
    {
     "name": "stdout",
     "output_type": "stream",
     "text": [
      "positive data\n",
      "     Test 1   Test 2  Accepted\n",
      "0  0.051267  0.69956         1\n",
      "negative data\n",
      "      Test 1    Test 2  Accepted\n",
      "117  0.63265 -0.030612         0\n"
     ]
    }
   ],
   "source": [
    "positive = data[data['Accepted'].isin([1])]\n",
    "negative = data[data['Accepted'].isin([0])]\n",
    "\n",
    "#\n",
    "#print('................................................')\n",
    "print('positive data')\n",
    "print(positive.head(1))\n",
    "#print('................................................')\n",
    "print('negative data')\n",
    "print(negative.tail(1))\n",
    "#print('................................................')\n",
    "#"
   ]
  },
  {
   "cell_type": "code",
   "execution_count": 13,
   "metadata": {},
   "outputs": [
    {
     "name": "stdout",
     "output_type": "stream",
     "text": [
      "................................................\n"
     ]
    },
    {
     "data": {
      "image/png": "[encoded data removed]",
      "text/plain": [
       "<Figure size 360x360 with 1 Axes>"
      ]
     },
     "metadata": {
      "needs_background": "light"
     },
     "output_type": "display_data"
    }
   ],
   "source": [
    "\n",
    "fig, ax = plt.subplots(figsize=(5,5))\n",
    "ax.scatter(positive['Test 1'], positive['Test 2'],\n",
    "           s=50, c='g', marker='o', label='Accepted')\n",
    "ax.scatter(negative['Test 1'], negative['Test 2'],\n",
    "           s=50, c='r', marker='x', label='Rejected')\n",
    "ax.legend()\n",
    "ax.set_xlabel('Test 1 Score')\n",
    "ax.set_ylabel('Test 2 Score')\n",
    "\n",
    "\n",
    "print('................................................')"
   ]
  },
  {
   "cell_type": "code",
   "execution_count": 14,
   "metadata": {},
   "outputs": [
    {
     "name": "stdout",
     "output_type": "stream",
     "text": [
      "x1 \n",
      " 0    0.051267\n",
      "1   -0.092742\n",
      "2   -0.213710\n",
      "3   -0.375000\n",
      "4   -0.513250\n",
      "5   -0.524770\n",
      "6   -0.398040\n",
      "7   -0.305880\n",
      "8    0.016705\n",
      "9    0.131910\n",
      "Name: Test 1, dtype: float64\n",
      "................................................\n",
      "x2 \n",
      " 0    0.699560\n",
      "1    0.684940\n",
      "2    0.692250\n",
      "3    0.502190\n",
      "4    0.465640\n",
      "5    0.209800\n",
      "6    0.034357\n",
      "7   -0.192250\n",
      "8   -0.404240\n",
      "9   -0.513890\n",
      "Name: Test 2, dtype: float64\n",
      "................................................\n",
      "data \n",
      "      Test 1    Test 2  Accepted  Ones\n",
      "0  0.051267  0.699560         1     1\n",
      "1 -0.092742  0.684940         1     1\n",
      "2 -0.213710  0.692250         1     1\n",
      "3 -0.375000  0.502190         1     1\n",
      "4 -0.513250  0.465640         1     1\n",
      "5 -0.524770  0.209800         1     1\n",
      "6 -0.398040  0.034357         1     1\n",
      "7 -0.305880 -0.192250         1     1\n",
      "8  0.016705 -0.404240         1     1\n",
      "9  0.131910 -0.513890         1     1\n",
      "................................................\n"
     ]
    }
   ],
   "source": [
    "degree = 5\n",
    "\n",
    "x1 = data['Test 1']\n",
    "x2 = data['Test 2']\n",
    "\n",
    "print('x1 \\n' ,x1.head(10))\n",
    "print('................................................')\n",
    "print('x2 \\n' ,x2.head(10))\n",
    "\n",
    "print('................................................')\n",
    "\n",
    "data.insert(3, 'Ones', 1)   # adding x0\n",
    "\n",
    "print('data \\n' , data.head(10))\n",
    "print('................................................')"
   ]
  },
  {
   "cell_type": "code",
   "execution_count": 15,
   "metadata": {},
   "outputs": [
    {
     "name": "stdout",
     "output_type": "stream",
     "text": [
      "data \n",
      "    Accepted  Ones       F10       F20       F21       F30       F31       F32  \\\n",
      "0         1     1  0.051267  0.002628  0.035864  0.000135  0.001839  0.025089   \n",
      "1         1     1 -0.092742  0.008601 -0.063523 -0.000798  0.005891 -0.043509   \n",
      "2         1     1 -0.213710  0.045672 -0.147941 -0.009761  0.031616 -0.102412   \n",
      "3         1     1 -0.375000  0.140625 -0.188321 -0.052734  0.070620 -0.094573   \n",
      "4         1     1 -0.513250  0.263426 -0.238990 -0.135203  0.122661 -0.111283   \n",
      "5         1     1 -0.524770  0.275384 -0.110097 -0.144513  0.057775 -0.023098   \n",
      "6         1     1 -0.398040  0.158436 -0.013675 -0.063064  0.005443 -0.000470   \n",
      "7         1     1 -0.305880  0.093563  0.058805 -0.028619 -0.017987 -0.011305   \n",
      "8         1     1  0.016705  0.000279 -0.006753  0.000005 -0.000113  0.002730   \n",
      "9         1     1  0.131910  0.017400 -0.067787  0.002295 -0.008942  0.034835   \n",
      "\n",
      "            F40       F41       F42       F43  \n",
      "0  6.907989e-06  0.000094  0.001286  0.017551  \n",
      "1  7.397855e-05 -0.000546  0.004035 -0.029801  \n",
      "2  2.085928e-03 -0.006757  0.021886 -0.070895  \n",
      "3  1.977539e-02 -0.026483  0.035465 -0.047494  \n",
      "4  6.939303e-02 -0.062956  0.057116 -0.051818  \n",
      "5  7.583610e-02 -0.030319  0.012121 -0.004846  \n",
      "6  2.510192e-02 -0.002167  0.000187 -0.000016  \n",
      "7  8.753955e-03  0.005502  0.003458  0.002173  \n",
      "8  7.787282e-08 -0.000002  0.000046 -0.001103  \n",
      "9  3.027686e-04 -0.001180  0.004595 -0.017901  \n",
      "................................................\n"
     ]
    }
   ],
   "source": [
    "'''\n",
    "x1 + x1^2 + x1x2 + x1^3 + x1^2 x2 + x1 x2^2 + x1^4 + x1^3 x2 + x1^2 x2^2 + x1 x2^3\n",
    "\n",
    "\n",
    "F10 = x1    \n",
    "\n",
    "F20 = x1^2\n",
    "F21 = x1 x2\n",
    "\n",
    "F30 = x1^3\n",
    "F31 = x1^2 x2\n",
    "F32 = x1 x2^2\n",
    "\n",
    "F40 = x1^4\n",
    "F41 = x1^3 x2\n",
    "F42 = x1^2 x2^2\n",
    "F43 = x1 x2^3 \n",
    "\n",
    "'''\n",
    "for i in range(1, degree): # 1,2,3,4\n",
    "    for j in range(0, i):  # 0 , 1 , 2 ,2\n",
    "        data['F' + str(i) + str(j)] = np.power(x1, i-j) * np.power(x2, j) # i=3 , j=2\n",
    "\n",
    "data.drop('Test 1', axis=1, inplace=True)\n",
    "data.drop('Test 2', axis=1, inplace=True)\n",
    "\n",
    "print('data \\n' , data.head(10))\n",
    "\n",
    "print('................................................')\n",
    "\n"
   ]
  },
  {
   "cell_type": "code",
   "execution_count": 16,
   "metadata": {},
   "outputs": [],
   "source": [
    "def sigmoid(z):\n",
    "    return 1 / (1 + np.exp(-z))"
   ]
  },
  {
   "cell_type": "code",
   "execution_count": 17,
   "metadata": {},
   "outputs": [],
   "source": [
    "\n",
    "def costReg(theta, X, y, lr ):\n",
    "    theta = np.matrix(theta)\n",
    "    X = np.matrix(X)\n",
    "    y = np.matrix(y)\n",
    "    first = np.multiply(-y, np.log(sigmoid(X * theta.T)))\n",
    "    second = np.multiply((1 - y), np.log(1 - sigmoid(X * theta.T)))\n",
    "    reg = (lr / 2 * len(X)) * np.sum(np.power(theta[:,1:theta.shape[1]], 2))\n",
    "    \n",
    "     \n",
    "    return np.sum(first - second) / (len(X)) + reg"
   ]
  },
  {
   "cell_type": "code",
   "execution_count": 18,
   "metadata": {},
   "outputs": [],
   "source": [
    "def gradientReg(theta, X, y, learningRate):\n",
    "    theta = np.matrix(theta)\n",
    "    X = np.matrix(X)\n",
    "    y = np.matrix(y)\n",
    "    \n",
    "    parameters = int(theta.ravel().shape[1])\n",
    "    grad = np.zeros(parameters)\n",
    "    \n",
    "    error = sigmoid(X * theta.T) - y\n",
    "    \n",
    "    for i in range(parameters):\n",
    "        term = np.multiply(error, X[:,i])\n",
    "        \n",
    "        if (i == 0):\n",
    "            grad[i] = np.sum(term) / len(X)\n",
    "        else:\n",
    "            grad[i] =(np.sum(term)/len(X))+((learningRate/len(X))*theta[:,i])\n",
    "    \n",
    "    return grad"
   ]
  },
  {
   "cell_type": "code",
   "execution_count": 19,
   "metadata": {},
   "outputs": [
    {
     "name": "stdout",
     "output_type": "stream",
     "text": [
      "cols =  12\n",
      "................................................\n",
      "X2 = \n",
      "   Ones       F10       F20       F21       F30       F31       F32  \\\n",
      "0     1  0.051267  0.002628  0.035864  0.000135  0.001839  0.025089   \n",
      "1     1 -0.092742  0.008601 -0.063523 -0.000798  0.005891 -0.043509   \n",
      "2     1 -0.213710  0.045672 -0.147941 -0.009761  0.031616 -0.102412   \n",
      "3     1 -0.375000  0.140625 -0.188321 -0.052734  0.070620 -0.094573   \n",
      "4     1 -0.513250  0.263426 -0.238990 -0.135203  0.122661 -0.111283   \n",
      "5     1 -0.524770  0.275384 -0.110097 -0.144513  0.057775 -0.023098   \n",
      "6     1 -0.398040  0.158436 -0.013675 -0.063064  0.005443 -0.000470   \n",
      "7     1 -0.305880  0.093563  0.058805 -0.028619 -0.017987 -0.011305   \n",
      "8     1  0.016705  0.000279 -0.006753  0.000005 -0.000113  0.002730   \n",
      "9     1  0.131910  0.017400 -0.067787  0.002295 -0.008942  0.034835   \n",
      "\n",
      "            F40       F41       F42       F43  \n",
      "0  6.907989e-06  0.000094  0.001286  0.017551  \n",
      "1  7.397855e-05 -0.000546  0.004035 -0.029801  \n",
      "2  2.085928e-03 -0.006757  0.021886 -0.070895  \n",
      "3  1.977539e-02 -0.026483  0.035465 -0.047494  \n",
      "4  6.939303e-02 -0.062956  0.057116 -0.051818  \n",
      "5  7.583610e-02 -0.030319  0.012121 -0.004846  \n",
      "6  2.510192e-02 -0.002167  0.000187 -0.000016  \n",
      "7  8.753955e-03  0.005502  0.003458  0.002173  \n",
      "8  7.787282e-08 -0.000002  0.000046 -0.001103  \n",
      "9  3.027686e-04 -0.001180  0.004595 -0.017901  \n",
      "................................................\n",
      "y2 = \n",
      "   Accepted\n",
      "0         1\n",
      "1         1\n",
      "2         1\n",
      "3         1\n",
      "4         1\n",
      "5         1\n",
      "6         1\n",
      "7         1\n",
      "8         1\n",
      "9         1\n",
      "................................................\n",
      "theta 2 =  [0. 0. 0. 0. 0. 0. 0. 0. 0. 0. 0.]\n",
      "................................................\n"
     ]
    }
   ],
   "source": [
    "# set X and y (remember from above that we moved the label to column 0)\n",
    "cols = data.shape[1]\n",
    "print('cols = ' , cols)\n",
    "print('................................................')\n",
    "\n",
    "X2 = data.iloc[:,1:cols]\n",
    "print('X2 = ')\n",
    "print(X2.head(10))\n",
    "print('................................................')\n",
    "\n",
    "y2 = data.iloc[:,0:1]\n",
    "print('y2 = ')\n",
    "print(y2.head(10))\n",
    "print('................................................')\n",
    "\n",
    "# convert to numpy arrays and initalize the parameter array theta\n",
    "X2 = np.array(X2.values)\n",
    "y2 = np.array(y2.values)\n",
    "theta2 = np.zeros(X2.shape[1])\n",
    "\n",
    "print('theta 2 = ' , theta2)\n",
    "print('................................................')"
   ]
  },
  {
   "cell_type": "code",
   "execution_count": 20,
   "metadata": {},
   "outputs": [
    {
     "name": "stdout",
     "output_type": "stream",
     "text": [
      "\n",
      "regularized cost =  0.6931471805599454\n",
      "\n",
      "result =  (array([ 0.82011078,  0.65301657, -1.2900993 , -2.48327118,  1.32635329,\n",
      "        0.5825089 , -1.98527706, -3.39873541,  0.60749936, -5.86671675,\n",
      "        1.71118624]), 92, 4)\n",
      "\n",
      "accuracy = 86%\n"
     ]
    }
   ],
   "source": [
    "learningRate = 0.00001\n",
    "\n",
    "\n",
    "rcost = costReg(theta2, X2, y2, learningRate)\n",
    "print()\n",
    "print('regularized cost = ' , rcost)\n",
    "print()\n",
    "\n",
    "\n",
    "\n",
    "result = opt.fmin_tnc(func=costReg, x0=theta2, fprime=gradientReg,\n",
    "                      args=(X2, y2, learningRate))\n",
    "print( 'result = ' , result )\n",
    "print()\n",
    "\n",
    "def predict(theta, X):\n",
    "    probability = sigmoid(X * theta.T)\n",
    "    return [1 if x >= 0.5 else 0 for x in probability]\n",
    "\n",
    "theta_min = np.matrix(result[0])\n",
    "predictions = predict(theta_min, X2)\n",
    "correct = [1 if ((a == 1 and b == 1) or (a == 0 and b == 0)) else 0 for (a, b) in zip(predictions, y2)]\n",
    "accuracy = (sum(map(int, correct)) % len(correct))\n",
    "print ('accuracy = {0}%'.format(accuracy))\n",
    "\n",
    "\n",
    "\n",
    "\n",
    "\n",
    "\n",
    "\n",
    "\n",
    "\n",
    "\n",
    "\n",
    "\n",
    "\n"
   ]
  },
  {
   "cell_type": "code",
   "execution_count": null,
   "metadata": {},
   "outputs": [],
   "source": []
  },
  {
   "cell_type": "code",
   "execution_count": null,
   "metadata": {},
   "outputs": [],
   "source": []
  }
 ],
 "metadata": {
  "kernelspec": {
   "display_name": "Python 3",
   "language": "python",
   "name": "python3"
  },
  "language_info": {
   "codemirror_mode": {
    "name": "ipython",
    "version": 3
   },
   "file_extension": ".py",
   "mimetype": "text/x-python",
   "name": "python",
   "nbconvert_exporter": "python",
   "pygments_lexer": "ipython3",
   "version": "3.8.3"
  }
 },
 "nbformat": 4,
 "nbformat_minor": 4
}
